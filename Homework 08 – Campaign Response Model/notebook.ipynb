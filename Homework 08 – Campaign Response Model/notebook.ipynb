{
 "metadata": {
  "language_info": {
   "codemirror_mode": {
    "name": "ipython",
    "version": 3
   },
   "file_extension": ".py",
   "mimetype": "text/x-python",
   "name": "python",
   "nbconvert_exporter": "python",
   "pygments_lexer": "ipython3",
   "version": "3.7.9"
  },
  "orig_nbformat": 2,
  "kernelspec": {
   "name": "python3",
   "display_name": "Python 3.7.9 64-bit ('py37': conda)"
  },
  "interpreter": {
   "hash": "4da15125672b0dceb38be1058c33ea6ad73e3456c69470386b0fd2351e8b811e"
  }
 },
 "nbformat": 4,
 "nbformat_minor": 2,
 "cells": [
  {
   "source": [
    "## References\n",
    "\n",
    "Resamplings\n",
    "- https://www.kaggle.com/rafjaa/resampling-strategies-for-imbalanced-datasets\n",
    "- https://machinelearningmastery.com/random-oversampling-and-undersampling-for-imbalanced-classification/"
   ],
   "cell_type": "markdown",
   "metadata": {}
  },
  {
   "source": [
    "## Initialization"
   ],
   "cell_type": "markdown",
   "metadata": {}
  },
  {
   "cell_type": "code",
   "execution_count": 1,
   "metadata": {},
   "outputs": [],
   "source": [
    "import datetime as dt\n",
    "import numpy as np\n",
    "import matplotlib.pyplot as plt\n",
    "import pandas as pd\n",
    "import xgboost as xgb\n",
    "\n",
    "from sklearn.model_selection import train_test_split\n",
    "from sklearn.model_selection import StratifiedKFold\n",
    "from sklearn.metrics import confusion_matrix\n",
    "from sklearn.metrics import classification_report, roc_curve, roc_auc_score\n",
    "from sklearn.linear_model import LogisticRegression\n",
    "from imblearn.under_sampling import RandomUnderSampler\n",
    "from imblearn.over_sampling import RandomOverSampler\n",
    "from imblearn.over_sampling import SMOTE\n",
    "from imblearn.combine import SMOTETomek"
   ]
  },
  {
   "source": [
    "## Load Dataset"
   ],
   "cell_type": "markdown",
   "metadata": {}
  },
  {
   "cell_type": "code",
   "execution_count": 2,
   "metadata": {},
   "outputs": [],
   "source": [
    "df_response = pd.read_csv('Retail_Data_Response.csv')\n",
    "df_transactions = pd.read_csv('Retail_Data_Transactions.csv', parse_dates=['trans_date'])"
   ]
  },
  {
   "source": [
    "## Data Preparation"
   ],
   "cell_type": "markdown",
   "metadata": {}
  },
  {
   "cell_type": "code",
   "execution_count": 3,
   "metadata": {},
   "outputs": [
    {
     "output_type": "execute_result",
     "data": {
      "text/plain": [
       "  customer_id trans_date  tran_amount  recent\n",
       "0      CS5295 2013-02-11           35   764.0\n",
       "1      CS4768 2015-03-15           39     2.0\n",
       "2      CS2122 2013-02-26           52   749.0\n",
       "3      CS1217 2011-11-16           99  1217.0\n",
       "4      CS1850 2013-11-20           78   482.0"
      ],
      "text/html": "<div>\n<style scoped>\n    .dataframe tbody tr th:only-of-type {\n        vertical-align: middle;\n    }\n\n    .dataframe tbody tr th {\n        vertical-align: top;\n    }\n\n    .dataframe thead th {\n        text-align: right;\n    }\n</style>\n<table border=\"1\" class=\"dataframe\">\n  <thead>\n    <tr style=\"text-align: right;\">\n      <th></th>\n      <th>customer_id</th>\n      <th>trans_date</th>\n      <th>tran_amount</th>\n      <th>recent</th>\n    </tr>\n  </thead>\n  <tbody>\n    <tr>\n      <th>0</th>\n      <td>CS5295</td>\n      <td>2013-02-11</td>\n      <td>35</td>\n      <td>764.0</td>\n    </tr>\n    <tr>\n      <th>1</th>\n      <td>CS4768</td>\n      <td>2015-03-15</td>\n      <td>39</td>\n      <td>2.0</td>\n    </tr>\n    <tr>\n      <th>2</th>\n      <td>CS2122</td>\n      <td>2013-02-26</td>\n      <td>52</td>\n      <td>749.0</td>\n    </tr>\n    <tr>\n      <th>3</th>\n      <td>CS1217</td>\n      <td>2011-11-16</td>\n      <td>99</td>\n      <td>1217.0</td>\n    </tr>\n    <tr>\n      <th>4</th>\n      <td>CS1850</td>\n      <td>2013-11-20</td>\n      <td>78</td>\n      <td>482.0</td>\n    </tr>\n  </tbody>\n</table>\n</div>"
     },
     "metadata": {},
     "execution_count": 3
    }
   ],
   "source": [
    "# since the last date of the data is 16 March 2015, the campaign date is assumed to be 17 March 2015\n",
    "# RFM model will be used to predict campaign response. Recency is calculated\n",
    "\n",
    "campaign_date = dt.datetime(2015, 3, 17)\n",
    "df_transactions['recent'] = campaign_date - df_transactions['trans_date']\n",
    "df_transactions['recent'].astype('timedelta64[D]')\n",
    "df_transactions['recent'] = df_transactions['recent'] / np.timedelta64(1, 'D')\n",
    "df_transactions.head()"
   ]
  },
  {
   "source": [
    "### Create CLV variables"
   ],
   "cell_type": "markdown",
   "metadata": {}
  },
  {
   "cell_type": "code",
   "execution_count": 4,
   "metadata": {},
   "outputs": [
    {
     "output_type": "execute_result",
     "data": {
      "text/plain": [
       "  customer_id  recency  frequency  monetary_value   AOU  ticket_size  \\\n",
       "0      CS1112     62.0         15            1012  1309    67.466667   \n",
       "1      CS1113     36.0         20            1490  1354    74.500000   \n",
       "2      CS1114     33.0         19            1432  1309    75.368421   \n",
       "3      CS1115     12.0         22            1659  1303    75.409091   \n",
       "4      CS1116    204.0         13             857  1155    65.923077   \n",
       "\n",
       "   ticket_size_std  ticket_size_med  ticket_size_min  ticket_size_max  \n",
       "0        19.766012             63.0               36              105  \n",
       "1        21.254102             79.5               36               98  \n",
       "2        21.341692             79.0               37              105  \n",
       "3        18.151896             72.5               41              104  \n",
       "4        22.940000             60.0               40              105  "
      ],
      "text/html": "<div>\n<style scoped>\n    .dataframe tbody tr th:only-of-type {\n        vertical-align: middle;\n    }\n\n    .dataframe tbody tr th {\n        vertical-align: top;\n    }\n\n    .dataframe thead th {\n        text-align: right;\n    }\n</style>\n<table border=\"1\" class=\"dataframe\">\n  <thead>\n    <tr style=\"text-align: right;\">\n      <th></th>\n      <th>customer_id</th>\n      <th>recency</th>\n      <th>frequency</th>\n      <th>monetary_value</th>\n      <th>AOU</th>\n      <th>ticket_size</th>\n      <th>ticket_size_std</th>\n      <th>ticket_size_med</th>\n      <th>ticket_size_min</th>\n      <th>ticket_size_max</th>\n    </tr>\n  </thead>\n  <tbody>\n    <tr>\n      <th>0</th>\n      <td>CS1112</td>\n      <td>62.0</td>\n      <td>15</td>\n      <td>1012</td>\n      <td>1309</td>\n      <td>67.466667</td>\n      <td>19.766012</td>\n      <td>63.0</td>\n      <td>36</td>\n      <td>105</td>\n    </tr>\n    <tr>\n      <th>1</th>\n      <td>CS1113</td>\n      <td>36.0</td>\n      <td>20</td>\n      <td>1490</td>\n      <td>1354</td>\n      <td>74.500000</td>\n      <td>21.254102</td>\n      <td>79.5</td>\n      <td>36</td>\n      <td>98</td>\n    </tr>\n    <tr>\n      <th>2</th>\n      <td>CS1114</td>\n      <td>33.0</td>\n      <td>19</td>\n      <td>1432</td>\n      <td>1309</td>\n      <td>75.368421</td>\n      <td>21.341692</td>\n      <td>79.0</td>\n      <td>37</td>\n      <td>105</td>\n    </tr>\n    <tr>\n      <th>3</th>\n      <td>CS1115</td>\n      <td>12.0</td>\n      <td>22</td>\n      <td>1659</td>\n      <td>1303</td>\n      <td>75.409091</td>\n      <td>18.151896</td>\n      <td>72.5</td>\n      <td>41</td>\n      <td>104</td>\n    </tr>\n    <tr>\n      <th>4</th>\n      <td>CS1116</td>\n      <td>204.0</td>\n      <td>13</td>\n      <td>857</td>\n      <td>1155</td>\n      <td>65.923077</td>\n      <td>22.940000</td>\n      <td>60.0</td>\n      <td>40</td>\n      <td>105</td>\n    </tr>\n  </tbody>\n</table>\n</div>"
     },
     "metadata": {},
     "execution_count": 4
    }
   ],
   "source": [
    "# create data set with CLV variables\n",
    "\n",
    "df_clv = df_transactions.groupby('customer_id').agg(\n",
    "    {\n",
    "        'recent': lambda x: x.min(),                     # Recency\n",
    "        'customer_id': lambda x: len(x),                 # Frequency\n",
    "        'tran_amount': lambda x: x.sum(),                # Monetary Value\n",
    "        'trans_date': lambda x: (x.max() - x.min()).days # AOU\n",
    "    }\n",
    ")\n",
    "\n",
    "df_clv.rename(\n",
    "    columns={\n",
    "        'recent': 'recency',\n",
    "        'customer_id': 'frequency',\n",
    "        'tran_amount': 'monetary_value',\n",
    "        'trans_date': 'AOU'\n",
    "    },\n",
    "    inplace=True\n",
    ")\n",
    "\n",
    "df_clv['ticket_size'] = df_clv['monetary_value'] / df_clv['frequency']\n",
    "df_clv = df_clv.join(\n",
    "    df_transactions.groupby('customer_id').agg(\n",
    "        ticket_size_std=('tran_amount', 'std'),\n",
    "        ticket_size_med=('tran_amount', 'median'),\n",
    "        ticket_size_min=('tran_amount', 'min'),\n",
    "        ticket_size_max=('tran_amount', 'max'),\n",
    "    )\n",
    ")\n",
    "\n",
    "df_clv = df_clv.reset_index()\n",
    "df_clv.head()"
   ]
  },
  {
   "source": [
    "### Calculating response rate"
   ],
   "cell_type": "markdown",
   "metadata": {}
  },
  {
   "cell_type": "code",
   "execution_count": 5,
   "metadata": {},
   "outputs": [
    {
     "output_type": "execute_result",
     "data": {
      "text/plain": [
       "   response  customer_id\n",
       "0         0         6237\n",
       "1         1          647"
      ],
      "text/html": "<div>\n<style scoped>\n    .dataframe tbody tr th:only-of-type {\n        vertical-align: middle;\n    }\n\n    .dataframe tbody tr th {\n        vertical-align: top;\n    }\n\n    .dataframe thead th {\n        text-align: right;\n    }\n</style>\n<table border=\"1\" class=\"dataframe\">\n  <thead>\n    <tr style=\"text-align: right;\">\n      <th></th>\n      <th>response</th>\n      <th>customer_id</th>\n    </tr>\n  </thead>\n  <tbody>\n    <tr>\n      <th>0</th>\n      <td>0</td>\n      <td>6237</td>\n    </tr>\n    <tr>\n      <th>1</th>\n      <td>1</td>\n      <td>647</td>\n    </tr>\n  </tbody>\n</table>\n</div>"
     },
     "metadata": {},
     "execution_count": 5
    }
   ],
   "source": [
    "response_rate = df_response.groupby('response').agg({'customer_id': lambda x: len(x)}).reset_index()\n",
    "response_rate.head()"
   ]
  },
  {
   "cell_type": "code",
   "execution_count": 6,
   "metadata": {},
   "outputs": [
    {
     "output_type": "display_data",
     "data": {
      "text/plain": "<Figure size 360x360 with 1 Axes>",
      "image/svg+xml": "<?xml version=\"1.0\" encoding=\"utf-8\" standalone=\"no\"?>\r\n<!DOCTYPE svg PUBLIC \"-//W3C//DTD SVG 1.1//EN\"\r\n  \"http://www.w3.org/Graphics/SVG/1.1/DTD/svg11.dtd\">\r\n<svg height=\"331.674375pt\" version=\"1.1\" viewBox=\"0 0 339.528125 331.674375\" width=\"339.528125pt\" xmlns=\"http://www.w3.org/2000/svg\" xmlns:xlink=\"http://www.w3.org/1999/xlink\">\r\n <metadata>\r\n  <rdf:RDF xmlns:cc=\"http://creativecommons.org/ns#\" xmlns:dc=\"http://purl.org/dc/elements/1.1/\" xmlns:rdf=\"http://www.w3.org/1999/02/22-rdf-syntax-ns#\">\r\n   <cc:Work>\r\n    <dc:type rdf:resource=\"http://purl.org/dc/dcmitype/StillImage\"/>\r\n    <dc:date>2021-06-12T00:11:25.404369</dc:date>\r\n    <dc:format>image/svg+xml</dc:format>\r\n    <dc:creator>\r\n     <cc:Agent>\r\n      <dc:title>Matplotlib v3.4.1, https://matplotlib.org/</dc:title>\r\n     </cc:Agent>\r\n    </dc:creator>\r\n   </cc:Work>\r\n  </rdf:RDF>\r\n </metadata>\r\n <defs>\r\n  <style type=\"text/css\">*{stroke-linecap:butt;stroke-linejoin:round;}</style>\r\n </defs>\r\n <g id=\"figure_1\">\r\n  <g id=\"patch_1\">\r\n   <path d=\"M 0 331.674375 \r\nL 339.528125 331.674375 \r\nL 339.528125 0 \r\nL 0 0 \r\nz\r\n\" style=\"fill:none;\"/>\r\n  </g>\r\n  <g id=\"axes_1\">\r\n   <g id=\"patch_2\">\r\n    <path d=\"M 53.328125 294.118125 \r\nL 332.328125 294.118125 \r\nL 332.328125 22.318125 \r\nL 53.328125 22.318125 \r\nz\r\n\" style=\"fill:#ffffff;\"/>\r\n   </g>\r\n   <g id=\"patch_3\">\r\n    <path clip-path=\"url(#pea76c320ce)\" d=\"M 66.009943 294.118125 \r\nL 178.737216 294.118125 \r\nL 178.737216 35.260982 \r\nL 66.009943 35.260982 \r\nz\r\n\" style=\"fill:#1f77b4;\"/>\r\n   </g>\r\n   <g id=\"patch_4\">\r\n    <path clip-path=\"url(#pea76c320ce)\" d=\"M 206.919034 294.118125 \r\nL 319.646307 294.118125 \r\nL 319.646307 267.26538 \r\nL 206.919034 267.26538 \r\nz\r\n\" style=\"fill:#1f77b4;\"/>\r\n   </g>\r\n   <g id=\"matplotlib.axis_1\">\r\n    <g id=\"xtick_1\">\r\n     <g id=\"line2d_1\">\r\n      <defs>\r\n       <path d=\"M 0 0 \r\nL 0 3.5 \r\n\" id=\"m840111512c\" style=\"stroke:#000000;stroke-width:0.8;\"/>\r\n      </defs>\r\n      <g>\r\n       <use style=\"stroke:#000000;stroke-width:0.8;\" x=\"122.37358\" xlink:href=\"#m840111512c\" y=\"294.118125\"/>\r\n      </g>\r\n     </g>\r\n     <g id=\"text_1\">\r\n      <!-- 0 -->\r\n      <g transform=\"translate(119.19233 308.716563)scale(0.1 -0.1)\">\r\n       <defs>\r\n        <path d=\"M 2034 4250 \r\nQ 1547 4250 1301 3770 \r\nQ 1056 3291 1056 2328 \r\nQ 1056 1369 1301 889 \r\nQ 1547 409 2034 409 \r\nQ 2525 409 2770 889 \r\nQ 3016 1369 3016 2328 \r\nQ 3016 3291 2770 3770 \r\nQ 2525 4250 2034 4250 \r\nz\r\nM 2034 4750 \r\nQ 2819 4750 3233 4129 \r\nQ 3647 3509 3647 2328 \r\nQ 3647 1150 3233 529 \r\nQ 2819 -91 2034 -91 \r\nQ 1250 -91 836 529 \r\nQ 422 1150 422 2328 \r\nQ 422 3509 836 4129 \r\nQ 1250 4750 2034 4750 \r\nz\r\n\" id=\"DejaVuSans-30\" transform=\"scale(0.015625)\"/>\r\n       </defs>\r\n       <use xlink:href=\"#DejaVuSans-30\"/>\r\n      </g>\r\n     </g>\r\n    </g>\r\n    <g id=\"xtick_2\">\r\n     <g id=\"line2d_2\">\r\n      <g>\r\n       <use style=\"stroke:#000000;stroke-width:0.8;\" x=\"263.28267\" xlink:href=\"#m840111512c\" y=\"294.118125\"/>\r\n      </g>\r\n     </g>\r\n     <g id=\"text_2\">\r\n      <!-- 1 -->\r\n      <g transform=\"translate(260.10142 308.716563)scale(0.1 -0.1)\">\r\n       <defs>\r\n        <path d=\"M 794 531 \r\nL 1825 531 \r\nL 1825 4091 \r\nL 703 3866 \r\nL 703 4441 \r\nL 1819 4666 \r\nL 2450 4666 \r\nL 2450 531 \r\nL 3481 531 \r\nL 3481 0 \r\nL 794 0 \r\nL 794 531 \r\nz\r\n\" id=\"DejaVuSans-31\" transform=\"scale(0.015625)\"/>\r\n       </defs>\r\n       <use xlink:href=\"#DejaVuSans-31\"/>\r\n      </g>\r\n     </g>\r\n    </g>\r\n    <g id=\"text_3\">\r\n     <!-- Convert or Not -->\r\n     <g transform=\"translate(156.003906 322.394687)scale(0.1 -0.1)\">\r\n      <defs>\r\n       <path d=\"M 4122 4306 \r\nL 4122 3641 \r\nQ 3803 3938 3442 4084 \r\nQ 3081 4231 2675 4231 \r\nQ 1875 4231 1450 3742 \r\nQ 1025 3253 1025 2328 \r\nQ 1025 1406 1450 917 \r\nQ 1875 428 2675 428 \r\nQ 3081 428 3442 575 \r\nQ 3803 722 4122 1019 \r\nL 4122 359 \r\nQ 3791 134 3420 21 \r\nQ 3050 -91 2638 -91 \r\nQ 1578 -91 968 557 \r\nQ 359 1206 359 2328 \r\nQ 359 3453 968 4101 \r\nQ 1578 4750 2638 4750 \r\nQ 3056 4750 3426 4639 \r\nQ 3797 4528 4122 4306 \r\nz\r\n\" id=\"DejaVuSans-43\" transform=\"scale(0.015625)\"/>\r\n       <path d=\"M 1959 3097 \r\nQ 1497 3097 1228 2736 \r\nQ 959 2375 959 1747 \r\nQ 959 1119 1226 758 \r\nQ 1494 397 1959 397 \r\nQ 2419 397 2687 759 \r\nQ 2956 1122 2956 1747 \r\nQ 2956 2369 2687 2733 \r\nQ 2419 3097 1959 3097 \r\nz\r\nM 1959 3584 \r\nQ 2709 3584 3137 3096 \r\nQ 3566 2609 3566 1747 \r\nQ 3566 888 3137 398 \r\nQ 2709 -91 1959 -91 \r\nQ 1206 -91 779 398 \r\nQ 353 888 353 1747 \r\nQ 353 2609 779 3096 \r\nQ 1206 3584 1959 3584 \r\nz\r\n\" id=\"DejaVuSans-6f\" transform=\"scale(0.015625)\"/>\r\n       <path d=\"M 3513 2113 \r\nL 3513 0 \r\nL 2938 0 \r\nL 2938 2094 \r\nQ 2938 2591 2744 2837 \r\nQ 2550 3084 2163 3084 \r\nQ 1697 3084 1428 2787 \r\nQ 1159 2491 1159 1978 \r\nL 1159 0 \r\nL 581 0 \r\nL 581 3500 \r\nL 1159 3500 \r\nL 1159 2956 \r\nQ 1366 3272 1645 3428 \r\nQ 1925 3584 2291 3584 \r\nQ 2894 3584 3203 3211 \r\nQ 3513 2838 3513 2113 \r\nz\r\n\" id=\"DejaVuSans-6e\" transform=\"scale(0.015625)\"/>\r\n       <path d=\"M 191 3500 \r\nL 800 3500 \r\nL 1894 563 \r\nL 2988 3500 \r\nL 3597 3500 \r\nL 2284 0 \r\nL 1503 0 \r\nL 191 3500 \r\nz\r\n\" id=\"DejaVuSans-76\" transform=\"scale(0.015625)\"/>\r\n       <path d=\"M 3597 1894 \r\nL 3597 1613 \r\nL 953 1613 \r\nQ 991 1019 1311 708 \r\nQ 1631 397 2203 397 \r\nQ 2534 397 2845 478 \r\nQ 3156 559 3463 722 \r\nL 3463 178 \r\nQ 3153 47 2828 -22 \r\nQ 2503 -91 2169 -91 \r\nQ 1331 -91 842 396 \r\nQ 353 884 353 1716 \r\nQ 353 2575 817 3079 \r\nQ 1281 3584 2069 3584 \r\nQ 2775 3584 3186 3129 \r\nQ 3597 2675 3597 1894 \r\nz\r\nM 3022 2063 \r\nQ 3016 2534 2758 2815 \r\nQ 2500 3097 2075 3097 \r\nQ 1594 3097 1305 2825 \r\nQ 1016 2553 972 2059 \r\nL 3022 2063 \r\nz\r\n\" id=\"DejaVuSans-65\" transform=\"scale(0.015625)\"/>\r\n       <path d=\"M 2631 2963 \r\nQ 2534 3019 2420 3045 \r\nQ 2306 3072 2169 3072 \r\nQ 1681 3072 1420 2755 \r\nQ 1159 2438 1159 1844 \r\nL 1159 0 \r\nL 581 0 \r\nL 581 3500 \r\nL 1159 3500 \r\nL 1159 2956 \r\nQ 1341 3275 1631 3429 \r\nQ 1922 3584 2338 3584 \r\nQ 2397 3584 2469 3576 \r\nQ 2541 3569 2628 3553 \r\nL 2631 2963 \r\nz\r\n\" id=\"DejaVuSans-72\" transform=\"scale(0.015625)\"/>\r\n       <path d=\"M 1172 4494 \r\nL 1172 3500 \r\nL 2356 3500 \r\nL 2356 3053 \r\nL 1172 3053 \r\nL 1172 1153 \r\nQ 1172 725 1289 603 \r\nQ 1406 481 1766 481 \r\nL 2356 481 \r\nL 2356 0 \r\nL 1766 0 \r\nQ 1100 0 847 248 \r\nQ 594 497 594 1153 \r\nL 594 3053 \r\nL 172 3053 \r\nL 172 3500 \r\nL 594 3500 \r\nL 594 4494 \r\nL 1172 4494 \r\nz\r\n\" id=\"DejaVuSans-74\" transform=\"scale(0.015625)\"/>\r\n       <path id=\"DejaVuSans-20\" transform=\"scale(0.015625)\"/>\r\n       <path d=\"M 628 4666 \r\nL 1478 4666 \r\nL 3547 763 \r\nL 3547 4666 \r\nL 4159 4666 \r\nL 4159 0 \r\nL 3309 0 \r\nL 1241 3903 \r\nL 1241 0 \r\nL 628 0 \r\nL 628 4666 \r\nz\r\n\" id=\"DejaVuSans-4e\" transform=\"scale(0.015625)\"/>\r\n      </defs>\r\n      <use xlink:href=\"#DejaVuSans-43\"/>\r\n      <use x=\"69.824219\" xlink:href=\"#DejaVuSans-6f\"/>\r\n      <use x=\"131.005859\" xlink:href=\"#DejaVuSans-6e\"/>\r\n      <use x=\"194.384766\" xlink:href=\"#DejaVuSans-76\"/>\r\n      <use x=\"253.564453\" xlink:href=\"#DejaVuSans-65\"/>\r\n      <use x=\"315.087891\" xlink:href=\"#DejaVuSans-72\"/>\r\n      <use x=\"356.201172\" xlink:href=\"#DejaVuSans-74\"/>\r\n      <use x=\"395.410156\" xlink:href=\"#DejaVuSans-20\"/>\r\n      <use x=\"427.197266\" xlink:href=\"#DejaVuSans-6f\"/>\r\n      <use x=\"488.378906\" xlink:href=\"#DejaVuSans-72\"/>\r\n      <use x=\"529.492188\" xlink:href=\"#DejaVuSans-20\"/>\r\n      <use x=\"561.279297\" xlink:href=\"#DejaVuSans-4e\"/>\r\n      <use x=\"636.083984\" xlink:href=\"#DejaVuSans-6f\"/>\r\n      <use x=\"697.265625\" xlink:href=\"#DejaVuSans-74\"/>\r\n     </g>\r\n    </g>\r\n   </g>\r\n   <g id=\"matplotlib.axis_2\">\r\n    <g id=\"ytick_1\">\r\n     <g id=\"line2d_3\">\r\n      <defs>\r\n       <path d=\"M 0 0 \r\nL -3.5 0 \r\n\" id=\"m412855e21f\" style=\"stroke:#000000;stroke-width:0.8;\"/>\r\n      </defs>\r\n      <g>\r\n       <use style=\"stroke:#000000;stroke-width:0.8;\" x=\"53.328125\" xlink:href=\"#m412855e21f\" y=\"294.118125\"/>\r\n      </g>\r\n     </g>\r\n     <g id=\"text_4\">\r\n      <!-- 0 -->\r\n      <g transform=\"translate(39.965625 297.917344)scale(0.1 -0.1)\">\r\n       <use xlink:href=\"#DejaVuSans-30\"/>\r\n      </g>\r\n     </g>\r\n    </g>\r\n    <g id=\"ytick_2\">\r\n     <g id=\"line2d_4\">\r\n      <g>\r\n       <use style=\"stroke:#000000;stroke-width:0.8;\" x=\"53.328125\" xlink:href=\"#m412855e21f\" y=\"252.614655\"/>\r\n      </g>\r\n     </g>\r\n     <g id=\"text_5\">\r\n      <!-- 1000 -->\r\n      <g transform=\"translate(20.878125 256.413874)scale(0.1 -0.1)\">\r\n       <use xlink:href=\"#DejaVuSans-31\"/>\r\n       <use x=\"63.623047\" xlink:href=\"#DejaVuSans-30\"/>\r\n       <use x=\"127.246094\" xlink:href=\"#DejaVuSans-30\"/>\r\n       <use x=\"190.869141\" xlink:href=\"#DejaVuSans-30\"/>\r\n      </g>\r\n     </g>\r\n    </g>\r\n    <g id=\"ytick_3\">\r\n     <g id=\"line2d_5\">\r\n      <g>\r\n       <use style=\"stroke:#000000;stroke-width:0.8;\" x=\"53.328125\" xlink:href=\"#m412855e21f\" y=\"211.111185\"/>\r\n      </g>\r\n     </g>\r\n     <g id=\"text_6\">\r\n      <!-- 2000 -->\r\n      <g transform=\"translate(20.878125 214.910404)scale(0.1 -0.1)\">\r\n       <defs>\r\n        <path d=\"M 1228 531 \r\nL 3431 531 \r\nL 3431 0 \r\nL 469 0 \r\nL 469 531 \r\nQ 828 903 1448 1529 \r\nQ 2069 2156 2228 2338 \r\nQ 2531 2678 2651 2914 \r\nQ 2772 3150 2772 3378 \r\nQ 2772 3750 2511 3984 \r\nQ 2250 4219 1831 4219 \r\nQ 1534 4219 1204 4116 \r\nQ 875 4013 500 3803 \r\nL 500 4441 \r\nQ 881 4594 1212 4672 \r\nQ 1544 4750 1819 4750 \r\nQ 2544 4750 2975 4387 \r\nQ 3406 4025 3406 3419 \r\nQ 3406 3131 3298 2873 \r\nQ 3191 2616 2906 2266 \r\nQ 2828 2175 2409 1742 \r\nQ 1991 1309 1228 531 \r\nz\r\n\" id=\"DejaVuSans-32\" transform=\"scale(0.015625)\"/>\r\n       </defs>\r\n       <use xlink:href=\"#DejaVuSans-32\"/>\r\n       <use x=\"63.623047\" xlink:href=\"#DejaVuSans-30\"/>\r\n       <use x=\"127.246094\" xlink:href=\"#DejaVuSans-30\"/>\r\n       <use x=\"190.869141\" xlink:href=\"#DejaVuSans-30\"/>\r\n      </g>\r\n     </g>\r\n    </g>\r\n    <g id=\"ytick_4\">\r\n     <g id=\"line2d_6\">\r\n      <g>\r\n       <use style=\"stroke:#000000;stroke-width:0.8;\" x=\"53.328125\" xlink:href=\"#m412855e21f\" y=\"169.607715\"/>\r\n      </g>\r\n     </g>\r\n     <g id=\"text_7\">\r\n      <!-- 3000 -->\r\n      <g transform=\"translate(20.878125 173.406934)scale(0.1 -0.1)\">\r\n       <defs>\r\n        <path d=\"M 2597 2516 \r\nQ 3050 2419 3304 2112 \r\nQ 3559 1806 3559 1356 \r\nQ 3559 666 3084 287 \r\nQ 2609 -91 1734 -91 \r\nQ 1441 -91 1130 -33 \r\nQ 819 25 488 141 \r\nL 488 750 \r\nQ 750 597 1062 519 \r\nQ 1375 441 1716 441 \r\nQ 2309 441 2620 675 \r\nQ 2931 909 2931 1356 \r\nQ 2931 1769 2642 2001 \r\nQ 2353 2234 1838 2234 \r\nL 1294 2234 \r\nL 1294 2753 \r\nL 1863 2753 \r\nQ 2328 2753 2575 2939 \r\nQ 2822 3125 2822 3475 \r\nQ 2822 3834 2567 4026 \r\nQ 2313 4219 1838 4219 \r\nQ 1578 4219 1281 4162 \r\nQ 984 4106 628 3988 \r\nL 628 4550 \r\nQ 988 4650 1302 4700 \r\nQ 1616 4750 1894 4750 \r\nQ 2613 4750 3031 4423 \r\nQ 3450 4097 3450 3541 \r\nQ 3450 3153 3228 2886 \r\nQ 3006 2619 2597 2516 \r\nz\r\n\" id=\"DejaVuSans-33\" transform=\"scale(0.015625)\"/>\r\n       </defs>\r\n       <use xlink:href=\"#DejaVuSans-33\"/>\r\n       <use x=\"63.623047\" xlink:href=\"#DejaVuSans-30\"/>\r\n       <use x=\"127.246094\" xlink:href=\"#DejaVuSans-30\"/>\r\n       <use x=\"190.869141\" xlink:href=\"#DejaVuSans-30\"/>\r\n      </g>\r\n     </g>\r\n    </g>\r\n    <g id=\"ytick_5\">\r\n     <g id=\"line2d_7\">\r\n      <g>\r\n       <use style=\"stroke:#000000;stroke-width:0.8;\" x=\"53.328125\" xlink:href=\"#m412855e21f\" y=\"128.104245\"/>\r\n      </g>\r\n     </g>\r\n     <g id=\"text_8\">\r\n      <!-- 4000 -->\r\n      <g transform=\"translate(20.878125 131.903463)scale(0.1 -0.1)\">\r\n       <defs>\r\n        <path d=\"M 2419 4116 \r\nL 825 1625 \r\nL 2419 1625 \r\nL 2419 4116 \r\nz\r\nM 2253 4666 \r\nL 3047 4666 \r\nL 3047 1625 \r\nL 3713 1625 \r\nL 3713 1100 \r\nL 3047 1100 \r\nL 3047 0 \r\nL 2419 0 \r\nL 2419 1100 \r\nL 313 1100 \r\nL 313 1709 \r\nL 2253 4666 \r\nz\r\n\" id=\"DejaVuSans-34\" transform=\"scale(0.015625)\"/>\r\n       </defs>\r\n       <use xlink:href=\"#DejaVuSans-34\"/>\r\n       <use x=\"63.623047\" xlink:href=\"#DejaVuSans-30\"/>\r\n       <use x=\"127.246094\" xlink:href=\"#DejaVuSans-30\"/>\r\n       <use x=\"190.869141\" xlink:href=\"#DejaVuSans-30\"/>\r\n      </g>\r\n     </g>\r\n    </g>\r\n    <g id=\"ytick_6\">\r\n     <g id=\"line2d_8\">\r\n      <g>\r\n       <use style=\"stroke:#000000;stroke-width:0.8;\" x=\"53.328125\" xlink:href=\"#m412855e21f\" y=\"86.600775\"/>\r\n      </g>\r\n     </g>\r\n     <g id=\"text_9\">\r\n      <!-- 5000 -->\r\n      <g transform=\"translate(20.878125 90.399993)scale(0.1 -0.1)\">\r\n       <defs>\r\n        <path d=\"M 691 4666 \r\nL 3169 4666 \r\nL 3169 4134 \r\nL 1269 4134 \r\nL 1269 2991 \r\nQ 1406 3038 1543 3061 \r\nQ 1681 3084 1819 3084 \r\nQ 2600 3084 3056 2656 \r\nQ 3513 2228 3513 1497 \r\nQ 3513 744 3044 326 \r\nQ 2575 -91 1722 -91 \r\nQ 1428 -91 1123 -41 \r\nQ 819 9 494 109 \r\nL 494 744 \r\nQ 775 591 1075 516 \r\nQ 1375 441 1709 441 \r\nQ 2250 441 2565 725 \r\nQ 2881 1009 2881 1497 \r\nQ 2881 1984 2565 2268 \r\nQ 2250 2553 1709 2553 \r\nQ 1456 2553 1204 2497 \r\nQ 953 2441 691 2322 \r\nL 691 4666 \r\nz\r\n\" id=\"DejaVuSans-35\" transform=\"scale(0.015625)\"/>\r\n       </defs>\r\n       <use xlink:href=\"#DejaVuSans-35\"/>\r\n       <use x=\"63.623047\" xlink:href=\"#DejaVuSans-30\"/>\r\n       <use x=\"127.246094\" xlink:href=\"#DejaVuSans-30\"/>\r\n       <use x=\"190.869141\" xlink:href=\"#DejaVuSans-30\"/>\r\n      </g>\r\n     </g>\r\n    </g>\r\n    <g id=\"ytick_7\">\r\n     <g id=\"line2d_9\">\r\n      <g>\r\n       <use style=\"stroke:#000000;stroke-width:0.8;\" x=\"53.328125\" xlink:href=\"#m412855e21f\" y=\"45.097305\"/>\r\n      </g>\r\n     </g>\r\n     <g id=\"text_10\">\r\n      <!-- 6000 -->\r\n      <g transform=\"translate(20.878125 48.896523)scale(0.1 -0.1)\">\r\n       <defs>\r\n        <path d=\"M 2113 2584 \r\nQ 1688 2584 1439 2293 \r\nQ 1191 2003 1191 1497 \r\nQ 1191 994 1439 701 \r\nQ 1688 409 2113 409 \r\nQ 2538 409 2786 701 \r\nQ 3034 994 3034 1497 \r\nQ 3034 2003 2786 2293 \r\nQ 2538 2584 2113 2584 \r\nz\r\nM 3366 4563 \r\nL 3366 3988 \r\nQ 3128 4100 2886 4159 \r\nQ 2644 4219 2406 4219 \r\nQ 1781 4219 1451 3797 \r\nQ 1122 3375 1075 2522 \r\nQ 1259 2794 1537 2939 \r\nQ 1816 3084 2150 3084 \r\nQ 2853 3084 3261 2657 \r\nQ 3669 2231 3669 1497 \r\nQ 3669 778 3244 343 \r\nQ 2819 -91 2113 -91 \r\nQ 1303 -91 875 529 \r\nQ 447 1150 447 2328 \r\nQ 447 3434 972 4092 \r\nQ 1497 4750 2381 4750 \r\nQ 2619 4750 2861 4703 \r\nQ 3103 4656 3366 4563 \r\nz\r\n\" id=\"DejaVuSans-36\" transform=\"scale(0.015625)\"/>\r\n       </defs>\r\n       <use xlink:href=\"#DejaVuSans-36\"/>\r\n       <use x=\"63.623047\" xlink:href=\"#DejaVuSans-30\"/>\r\n       <use x=\"127.246094\" xlink:href=\"#DejaVuSans-30\"/>\r\n       <use x=\"190.869141\" xlink:href=\"#DejaVuSans-30\"/>\r\n      </g>\r\n     </g>\r\n    </g>\r\n    <g id=\"text_11\">\r\n     <!-- no. of users -->\r\n     <g transform=\"translate(14.798438 187.455625)rotate(-90)scale(0.1 -0.1)\">\r\n      <defs>\r\n       <path d=\"M 684 794 \r\nL 1344 794 \r\nL 1344 0 \r\nL 684 0 \r\nL 684 794 \r\nz\r\n\" id=\"DejaVuSans-2e\" transform=\"scale(0.015625)\"/>\r\n       <path d=\"M 2375 4863 \r\nL 2375 4384 \r\nL 1825 4384 \r\nQ 1516 4384 1395 4259 \r\nQ 1275 4134 1275 3809 \r\nL 1275 3500 \r\nL 2222 3500 \r\nL 2222 3053 \r\nL 1275 3053 \r\nL 1275 0 \r\nL 697 0 \r\nL 697 3053 \r\nL 147 3053 \r\nL 147 3500 \r\nL 697 3500 \r\nL 697 3744 \r\nQ 697 4328 969 4595 \r\nQ 1241 4863 1831 4863 \r\nL 2375 4863 \r\nz\r\n\" id=\"DejaVuSans-66\" transform=\"scale(0.015625)\"/>\r\n       <path d=\"M 544 1381 \r\nL 544 3500 \r\nL 1119 3500 \r\nL 1119 1403 \r\nQ 1119 906 1312 657 \r\nQ 1506 409 1894 409 \r\nQ 2359 409 2629 706 \r\nQ 2900 1003 2900 1516 \r\nL 2900 3500 \r\nL 3475 3500 \r\nL 3475 0 \r\nL 2900 0 \r\nL 2900 538 \r\nQ 2691 219 2414 64 \r\nQ 2138 -91 1772 -91 \r\nQ 1169 -91 856 284 \r\nQ 544 659 544 1381 \r\nz\r\nM 1991 3584 \r\nL 1991 3584 \r\nz\r\n\" id=\"DejaVuSans-75\" transform=\"scale(0.015625)\"/>\r\n       <path d=\"M 2834 3397 \r\nL 2834 2853 \r\nQ 2591 2978 2328 3040 \r\nQ 2066 3103 1784 3103 \r\nQ 1356 3103 1142 2972 \r\nQ 928 2841 928 2578 \r\nQ 928 2378 1081 2264 \r\nQ 1234 2150 1697 2047 \r\nL 1894 2003 \r\nQ 2506 1872 2764 1633 \r\nQ 3022 1394 3022 966 \r\nQ 3022 478 2636 193 \r\nQ 2250 -91 1575 -91 \r\nQ 1294 -91 989 -36 \r\nQ 684 19 347 128 \r\nL 347 722 \r\nQ 666 556 975 473 \r\nQ 1284 391 1588 391 \r\nQ 1994 391 2212 530 \r\nQ 2431 669 2431 922 \r\nQ 2431 1156 2273 1281 \r\nQ 2116 1406 1581 1522 \r\nL 1381 1569 \r\nQ 847 1681 609 1914 \r\nQ 372 2147 372 2553 \r\nQ 372 3047 722 3315 \r\nQ 1072 3584 1716 3584 \r\nQ 2034 3584 2315 3537 \r\nQ 2597 3491 2834 3397 \r\nz\r\n\" id=\"DejaVuSans-73\" transform=\"scale(0.015625)\"/>\r\n      </defs>\r\n      <use xlink:href=\"#DejaVuSans-6e\"/>\r\n      <use x=\"63.378906\" xlink:href=\"#DejaVuSans-6f\"/>\r\n      <use x=\"122.810547\" xlink:href=\"#DejaVuSans-2e\"/>\r\n      <use x=\"154.597656\" xlink:href=\"#DejaVuSans-20\"/>\r\n      <use x=\"186.384766\" xlink:href=\"#DejaVuSans-6f\"/>\r\n      <use x=\"247.566406\" xlink:href=\"#DejaVuSans-66\"/>\r\n      <use x=\"282.771484\" xlink:href=\"#DejaVuSans-20\"/>\r\n      <use x=\"314.558594\" xlink:href=\"#DejaVuSans-75\"/>\r\n      <use x=\"377.9375\" xlink:href=\"#DejaVuSans-73\"/>\r\n      <use x=\"430.037109\" xlink:href=\"#DejaVuSans-65\"/>\r\n      <use x=\"491.560547\" xlink:href=\"#DejaVuSans-72\"/>\r\n      <use x=\"532.673828\" xlink:href=\"#DejaVuSans-73\"/>\r\n     </g>\r\n    </g>\r\n   </g>\r\n   <g id=\"patch_5\">\r\n    <path d=\"M 53.328125 294.118125 \r\nL 53.328125 22.318125 \r\n\" style=\"fill:none;stroke:#000000;stroke-linecap:square;stroke-linejoin:miter;stroke-width:0.8;\"/>\r\n   </g>\r\n   <g id=\"patch_6\">\r\n    <path d=\"M 332.328125 294.118125 \r\nL 332.328125 22.318125 \r\n\" style=\"fill:none;stroke:#000000;stroke-linecap:square;stroke-linejoin:miter;stroke-width:0.8;\"/>\r\n   </g>\r\n   <g id=\"patch_7\">\r\n    <path d=\"M 53.328125 294.118125 \r\nL 332.328125 294.118125 \r\n\" style=\"fill:none;stroke:#000000;stroke-linecap:square;stroke-linejoin:miter;stroke-width:0.8;\"/>\r\n   </g>\r\n   <g id=\"patch_8\">\r\n    <path d=\"M 53.328125 22.318125 \r\nL 332.328125 22.318125 \r\n\" style=\"fill:none;stroke:#000000;stroke-linecap:square;stroke-linejoin:miter;stroke-width:0.8;\"/>\r\n   </g>\r\n   <g id=\"text_12\">\r\n    <!-- Response Distribution -->\r\n    <g transform=\"translate(127.101875 16.318125)scale(0.12 -0.12)\">\r\n     <defs>\r\n      <path d=\"M 2841 2188 \r\nQ 3044 2119 3236 1894 \r\nQ 3428 1669 3622 1275 \r\nL 4263 0 \r\nL 3584 0 \r\nL 2988 1197 \r\nQ 2756 1666 2539 1819 \r\nQ 2322 1972 1947 1972 \r\nL 1259 1972 \r\nL 1259 0 \r\nL 628 0 \r\nL 628 4666 \r\nL 2053 4666 \r\nQ 2853 4666 3247 4331 \r\nQ 3641 3997 3641 3322 \r\nQ 3641 2881 3436 2590 \r\nQ 3231 2300 2841 2188 \r\nz\r\nM 1259 4147 \r\nL 1259 2491 \r\nL 2053 2491 \r\nQ 2509 2491 2742 2702 \r\nQ 2975 2913 2975 3322 \r\nQ 2975 3731 2742 3939 \r\nQ 2509 4147 2053 4147 \r\nL 1259 4147 \r\nz\r\n\" id=\"DejaVuSans-52\" transform=\"scale(0.015625)\"/>\r\n      <path d=\"M 1159 525 \r\nL 1159 -1331 \r\nL 581 -1331 \r\nL 581 3500 \r\nL 1159 3500 \r\nL 1159 2969 \r\nQ 1341 3281 1617 3432 \r\nQ 1894 3584 2278 3584 \r\nQ 2916 3584 3314 3078 \r\nQ 3713 2572 3713 1747 \r\nQ 3713 922 3314 415 \r\nQ 2916 -91 2278 -91 \r\nQ 1894 -91 1617 61 \r\nQ 1341 213 1159 525 \r\nz\r\nM 3116 1747 \r\nQ 3116 2381 2855 2742 \r\nQ 2594 3103 2138 3103 \r\nQ 1681 3103 1420 2742 \r\nQ 1159 2381 1159 1747 \r\nQ 1159 1113 1420 752 \r\nQ 1681 391 2138 391 \r\nQ 2594 391 2855 752 \r\nQ 3116 1113 3116 1747 \r\nz\r\n\" id=\"DejaVuSans-70\" transform=\"scale(0.015625)\"/>\r\n      <path d=\"M 1259 4147 \r\nL 1259 519 \r\nL 2022 519 \r\nQ 2988 519 3436 956 \r\nQ 3884 1394 3884 2338 \r\nQ 3884 3275 3436 3711 \r\nQ 2988 4147 2022 4147 \r\nL 1259 4147 \r\nz\r\nM 628 4666 \r\nL 1925 4666 \r\nQ 3281 4666 3915 4102 \r\nQ 4550 3538 4550 2338 \r\nQ 4550 1131 3912 565 \r\nQ 3275 0 1925 0 \r\nL 628 0 \r\nL 628 4666 \r\nz\r\n\" id=\"DejaVuSans-44\" transform=\"scale(0.015625)\"/>\r\n      <path d=\"M 603 3500 \r\nL 1178 3500 \r\nL 1178 0 \r\nL 603 0 \r\nL 603 3500 \r\nz\r\nM 603 4863 \r\nL 1178 4863 \r\nL 1178 4134 \r\nL 603 4134 \r\nL 603 4863 \r\nz\r\n\" id=\"DejaVuSans-69\" transform=\"scale(0.015625)\"/>\r\n      <path d=\"M 3116 1747 \r\nQ 3116 2381 2855 2742 \r\nQ 2594 3103 2138 3103 \r\nQ 1681 3103 1420 2742 \r\nQ 1159 2381 1159 1747 \r\nQ 1159 1113 1420 752 \r\nQ 1681 391 2138 391 \r\nQ 2594 391 2855 752 \r\nQ 3116 1113 3116 1747 \r\nz\r\nM 1159 2969 \r\nQ 1341 3281 1617 3432 \r\nQ 1894 3584 2278 3584 \r\nQ 2916 3584 3314 3078 \r\nQ 3713 2572 3713 1747 \r\nQ 3713 922 3314 415 \r\nQ 2916 -91 2278 -91 \r\nQ 1894 -91 1617 61 \r\nQ 1341 213 1159 525 \r\nL 1159 0 \r\nL 581 0 \r\nL 581 4863 \r\nL 1159 4863 \r\nL 1159 2969 \r\nz\r\n\" id=\"DejaVuSans-62\" transform=\"scale(0.015625)\"/>\r\n     </defs>\r\n     <use xlink:href=\"#DejaVuSans-52\"/>\r\n     <use x=\"64.982422\" xlink:href=\"#DejaVuSans-65\"/>\r\n     <use x=\"126.505859\" xlink:href=\"#DejaVuSans-73\"/>\r\n     <use x=\"178.605469\" xlink:href=\"#DejaVuSans-70\"/>\r\n     <use x=\"242.082031\" xlink:href=\"#DejaVuSans-6f\"/>\r\n     <use x=\"303.263672\" xlink:href=\"#DejaVuSans-6e\"/>\r\n     <use x=\"366.642578\" xlink:href=\"#DejaVuSans-73\"/>\r\n     <use x=\"418.742188\" xlink:href=\"#DejaVuSans-65\"/>\r\n     <use x=\"480.265625\" xlink:href=\"#DejaVuSans-20\"/>\r\n     <use x=\"512.052734\" xlink:href=\"#DejaVuSans-44\"/>\r\n     <use x=\"589.054688\" xlink:href=\"#DejaVuSans-69\"/>\r\n     <use x=\"616.837891\" xlink:href=\"#DejaVuSans-73\"/>\r\n     <use x=\"668.9375\" xlink:href=\"#DejaVuSans-74\"/>\r\n     <use x=\"708.146484\" xlink:href=\"#DejaVuSans-72\"/>\r\n     <use x=\"749.259766\" xlink:href=\"#DejaVuSans-69\"/>\r\n     <use x=\"777.042969\" xlink:href=\"#DejaVuSans-62\"/>\r\n     <use x=\"840.519531\" xlink:href=\"#DejaVuSans-75\"/>\r\n     <use x=\"903.898438\" xlink:href=\"#DejaVuSans-74\"/>\r\n     <use x=\"943.107422\" xlink:href=\"#DejaVuSans-69\"/>\r\n     <use x=\"970.890625\" xlink:href=\"#DejaVuSans-6f\"/>\r\n     <use x=\"1032.072266\" xlink:href=\"#DejaVuSans-6e\"/>\r\n    </g>\r\n   </g>\r\n  </g>\r\n </g>\r\n <defs>\r\n  <clipPath id=\"pea76c320ce\">\r\n   <rect height=\"271.8\" width=\"279\" x=\"53.328125\" y=\"22.318125\"/>\r\n  </clipPath>\r\n </defs>\r\n</svg>\r\n",
      "image/png": "[encoded data removed]"
     },
     "metadata": {
      "needs_background": "light"
     }
    }
   ],
   "source": [
    "plt.figure(figsize=(5, 5))\n",
    "x = range(2)\n",
    "plt.bar(x, response_rate['customer_id'])\n",
    "plt.xticks(response_rate.index)\n",
    "plt.title('Response Distribution')\n",
    "plt.xlabel('Convert or Not')\n",
    "plt.ylabel('no. of users')\n",
    "plt.show()\n",
    "\n",
    "## data is imbalanced"
   ]
  },
  {
   "cell_type": "code",
   "execution_count": 7,
   "metadata": {},
   "outputs": [
    {
     "output_type": "execute_result",
     "data": {
      "text/plain": [
       "  customer_id  response  recency  frequency  monetary_value   AOU  \\\n",
       "0      CS1112         0     62.0         15            1012  1309   \n",
       "1      CS1113         0     36.0         20            1490  1354   \n",
       "2      CS1114         1     33.0         19            1432  1309   \n",
       "3      CS1115         1     12.0         22            1659  1303   \n",
       "4      CS1116         1    204.0         13             857  1155   \n",
       "\n",
       "   ticket_size  ticket_size_std  ticket_size_med  ticket_size_min  \\\n",
       "0    67.466667        19.766012             63.0               36   \n",
       "1    74.500000        21.254102             79.5               36   \n",
       "2    75.368421        21.341692             79.0               37   \n",
       "3    75.409091        18.151896             72.5               41   \n",
       "4    65.923077        22.940000             60.0               40   \n",
       "\n",
       "   ticket_size_max  \n",
       "0              105  \n",
       "1               98  \n",
       "2              105  \n",
       "3              104  \n",
       "4              105  "
      ],
      "text/html": "<div>\n<style scoped>\n    .dataframe tbody tr th:only-of-type {\n        vertical-align: middle;\n    }\n\n    .dataframe tbody tr th {\n        vertical-align: top;\n    }\n\n    .dataframe thead th {\n        text-align: right;\n    }\n</style>\n<table border=\"1\" class=\"dataframe\">\n  <thead>\n    <tr style=\"text-align: right;\">\n      <th></th>\n      <th>customer_id</th>\n      <th>response</th>\n      <th>recency</th>\n      <th>frequency</th>\n      <th>monetary_value</th>\n      <th>AOU</th>\n      <th>ticket_size</th>\n      <th>ticket_size_std</th>\n      <th>ticket_size_med</th>\n      <th>ticket_size_min</th>\n      <th>ticket_size_max</th>\n    </tr>\n  </thead>\n  <tbody>\n    <tr>\n      <th>0</th>\n      <td>CS1112</td>\n      <td>0</td>\n      <td>62.0</td>\n      <td>15</td>\n      <td>1012</td>\n      <td>1309</td>\n      <td>67.466667</td>\n      <td>19.766012</td>\n      <td>63.0</td>\n      <td>36</td>\n      <td>105</td>\n    </tr>\n    <tr>\n      <th>1</th>\n      <td>CS1113</td>\n      <td>0</td>\n      <td>36.0</td>\n      <td>20</td>\n      <td>1490</td>\n      <td>1354</td>\n      <td>74.500000</td>\n      <td>21.254102</td>\n      <td>79.5</td>\n      <td>36</td>\n      <td>98</td>\n    </tr>\n    <tr>\n      <th>2</th>\n      <td>CS1114</td>\n      <td>1</td>\n      <td>33.0</td>\n      <td>19</td>\n      <td>1432</td>\n      <td>1309</td>\n      <td>75.368421</td>\n      <td>21.341692</td>\n      <td>79.0</td>\n      <td>37</td>\n      <td>105</td>\n    </tr>\n    <tr>\n      <th>3</th>\n      <td>CS1115</td>\n      <td>1</td>\n      <td>12.0</td>\n      <td>22</td>\n      <td>1659</td>\n      <td>1303</td>\n      <td>75.409091</td>\n      <td>18.151896</td>\n      <td>72.5</td>\n      <td>41</td>\n      <td>104</td>\n    </tr>\n    <tr>\n      <th>4</th>\n      <td>CS1116</td>\n      <td>1</td>\n      <td>204.0</td>\n      <td>13</td>\n      <td>857</td>\n      <td>1155</td>\n      <td>65.923077</td>\n      <td>22.940000</td>\n      <td>60.0</td>\n      <td>40</td>\n      <td>105</td>\n    </tr>\n  </tbody>\n</table>\n</div>"
     },
     "metadata": {},
     "execution_count": 7
    }
   ],
   "source": [
    "# merging two data sets - CLV\n",
    "\n",
    "df_modeling_clv = pd.merge(df_response, df_clv)\n",
    "df_modeling_clv.head()"
   ]
  },
  {
   "source": [
    "## Creating train and test dataset"
   ],
   "cell_type": "markdown",
   "metadata": {}
  },
  {
   "cell_type": "code",
   "execution_count": 8,
   "metadata": {},
   "outputs": [],
   "source": [
    "# spliting dataframe into X and y\n",
    "\n",
    "X_clv = df_modeling_clv.drop(columns=['response', 'customer_id'])\n",
    "y_clv = df_modeling_clv['response']"
   ]
  },
  {
   "source": [
    "## Variables"
   ],
   "cell_type": "markdown",
   "metadata": {}
  },
  {
   "source": [
    "### Matrix"
   ],
   "cell_type": "markdown",
   "metadata": {}
  },
  {
   "cell_type": "code",
   "execution_count": 9,
   "metadata": {},
   "outputs": [],
   "source": [
    "matrix_columns = ['model', 'resampler', 'train-mean', 'train-min', 'train-max', 'test-mean', 'test-min', 'test-max']"
   ]
  },
  {
   "source": [
    "### Cross Validations"
   ],
   "cell_type": "markdown",
   "metadata": {}
  },
  {
   "cell_type": "code",
   "execution_count": 10,
   "metadata": {},
   "outputs": [],
   "source": [
    "cv = StratifiedKFold(n_splits=5)"
   ]
  },
  {
   "source": [
    "### Resampling Function"
   ],
   "cell_type": "markdown",
   "metadata": {}
  },
  {
   "cell_type": "code",
   "execution_count": 11,
   "metadata": {},
   "outputs": [],
   "source": [
    "random_state = None\n",
    "undersampler = RandomUnderSampler(random_state=random_state)\n",
    "oversampler = RandomOverSampler(random_state=random_state)\n",
    "smote = SMOTE(random_state=random_state)\n",
    "smote_tomek = SMOTETomek(random_state=random_state)\n",
    "\n",
    "resamplers = [\n",
    "    ('n/a', None),\n",
    "    ('undersampler', undersampler),\n",
    "    ('oversampler', oversampler),\n",
    "    ('smote', smote),\n",
    "    ('smote-tomek', smote_tomek)\n",
    "]\n",
    "\n",
    "def get_resampling_data(x, y, resampler):\n",
    "    if resampler:\n",
    "        return resampler.fit_resample(x, y)\n",
    "    return x, y"
   ]
  },
  {
   "source": [
    "## Logistic Regression"
   ],
   "cell_type": "markdown",
   "metadata": {}
  },
  {
   "cell_type": "code",
   "execution_count": 12,
   "metadata": {},
   "outputs": [],
   "source": [
    "def logistic_regression_cross_validation_score(resampler):\n",
    "    train_scores = []\n",
    "    test_scores = []\n",
    "\n",
    "    for train_index, test_index in cv.split(X_clv, y_clv):\n",
    "        # Fold data\n",
    "        X_train_fold, y_train_fold = X_clv.iloc[train_index], y_clv.iloc[train_index]\n",
    "        X_test_fold, y_test_fold = X_clv.iloc[test_index], y_clv.iloc[test_index]\n",
    "\n",
    "        # Resampling data\n",
    "        X_train_resample, y_train_resample = get_resampling_data(X_train_fold, y_train_fold, resampler)\n",
    "\n",
    "        # Fit with resample data\n",
    "        model = LogisticRegression(solver='liblinear', class_weight='balanced')\n",
    "        model.fit(X_train_resample, y_train_resample)\n",
    "\n",
    "        # Get AUC score\n",
    "        train_scores += [roc_auc_score(y_train_resample, model.decision_function(X_train_resample))]\n",
    "        test_scores += [roc_auc_score(y_test_fold, model.decision_function(X_test_fold))]\n",
    "\n",
    "    return train_scores, test_scores"
   ]
  },
  {
   "cell_type": "code",
   "execution_count": 13,
   "metadata": {},
   "outputs": [
    {
     "output_type": "execute_result",
     "data": {
      "text/plain": [
       "      model     resampler  train-mean  train-min  train-max  test-mean  \\\n",
       "0  logistic           n/a    0.729881   0.702982   0.750309   0.734630   \n",
       "1  logistic  undersampler    0.732716   0.706441   0.755415   0.729527   \n",
       "2  logistic   oversampler    0.730112   0.701658   0.750258   0.727977   \n",
       "3  logistic         smote    0.746499   0.729031   0.757130   0.695957   \n",
       "4  logistic   smote-tomek    0.749581   0.713968   0.769619   0.700381   \n",
       "\n",
       "   test-min  test-max  \n",
       "0  0.637293  0.897677  \n",
       "1  0.634330  0.887469  \n",
       "2  0.631895  0.877567  \n",
       "3  0.635696  0.783240  \n",
       "4  0.634323  0.797576  "
      ],
      "text/html": "<div>\n<style scoped>\n    .dataframe tbody tr th:only-of-type {\n        vertical-align: middle;\n    }\n\n    .dataframe tbody tr th {\n        vertical-align: top;\n    }\n\n    .dataframe thead th {\n        text-align: right;\n    }\n</style>\n<table border=\"1\" class=\"dataframe\">\n  <thead>\n    <tr style=\"text-align: right;\">\n      <th></th>\n      <th>model</th>\n      <th>resampler</th>\n      <th>train-mean</th>\n      <th>train-min</th>\n      <th>train-max</th>\n      <th>test-mean</th>\n      <th>test-min</th>\n      <th>test-max</th>\n    </tr>\n  </thead>\n  <tbody>\n    <tr>\n      <th>0</th>\n      <td>logistic</td>\n      <td>n/a</td>\n      <td>0.729881</td>\n      <td>0.702982</td>\n      <td>0.750309</td>\n      <td>0.734630</td>\n      <td>0.637293</td>\n      <td>0.897677</td>\n    </tr>\n    <tr>\n      <th>1</th>\n      <td>logistic</td>\n      <td>undersampler</td>\n      <td>0.732716</td>\n      <td>0.706441</td>\n      <td>0.755415</td>\n      <td>0.729527</td>\n      <td>0.634330</td>\n      <td>0.887469</td>\n    </tr>\n    <tr>\n      <th>2</th>\n      <td>logistic</td>\n      <td>oversampler</td>\n      <td>0.730112</td>\n      <td>0.701658</td>\n      <td>0.750258</td>\n      <td>0.727977</td>\n      <td>0.631895</td>\n      <td>0.877567</td>\n    </tr>\n    <tr>\n      <th>3</th>\n      <td>logistic</td>\n      <td>smote</td>\n      <td>0.746499</td>\n      <td>0.729031</td>\n      <td>0.757130</td>\n      <td>0.695957</td>\n      <td>0.635696</td>\n      <td>0.783240</td>\n    </tr>\n    <tr>\n      <th>4</th>\n      <td>logistic</td>\n      <td>smote-tomek</td>\n      <td>0.749581</td>\n      <td>0.713968</td>\n      <td>0.769619</td>\n      <td>0.700381</td>\n      <td>0.634323</td>\n      <td>0.797576</td>\n    </tr>\n  </tbody>\n</table>\n</div>"
     },
     "metadata": {},
     "execution_count": 13
    }
   ],
   "source": [
    "logistic_results = []\n",
    "for resampler_name, resampler in resamplers:\n",
    "    train_scores, test_scores = logistic_regression_cross_validation_score(resampler)\n",
    "    logistic_results += [(\n",
    "        \"logistic\", \n",
    "        resampler_name, \n",
    "        np.mean(train_scores), np.min(train_scores), np.max(train_scores), \n",
    "        np.mean(test_scores), np.min(test_scores), np.max(test_scores)\n",
    "    )]\n",
    "logistic_results = pd.DataFrame(logistic_results, columns=matrix_columns)\n",
    "logistic_results"
   ]
  },
  {
   "source": [
    "## XGBoost"
   ],
   "cell_type": "markdown",
   "metadata": {}
  },
  {
   "cell_type": "code",
   "execution_count": 14,
   "metadata": {},
   "outputs": [],
   "source": [
    "def xgboost_cross_validation_score(resampler):\n",
    "    train_scores = []\n",
    "    test_scores = []\n",
    "\n",
    "    for train_index, test_index in cv.split(X_clv, y_clv):\n",
    "        # Fold data\n",
    "        X_train_fold, y_train_fold = X_clv.iloc[train_index], y_clv.iloc[train_index]\n",
    "        X_test_fold, y_test_fold = X_clv.iloc[test_index], y_clv.iloc[test_index]\n",
    "\n",
    "        # Resampling data\n",
    "        X_train_resample, y_train_resample = get_resampling_data(X_train_fold, y_train_fold, resampler)\n",
    "\n",
    "        # Fit with resample data\n",
    "        model = xgb_model = xgb.XGBClassifier(\n",
    "            objective='binary:logistic',\n",
    "            eval_metric=\"auc\",\n",
    "            base_score=0.5,\n",
    "            learning_rate=0.01,\n",
    "            n_estimators=5000,\n",
    "            max_depth=3,\n",
    "            min_child_weight=2,\n",
    "            gamma=0.1,\n",
    "            subsample=0.4,\n",
    "            colsample_bytree=0.4,\n",
    "            nthread=4\n",
    "        )\n",
    "        model.fit(X_train_resample, y_train_resample)\n",
    "\n",
    "        # Get AUC score\n",
    "        train_scores += [roc_auc_score(y_train_resample, model.predict_proba(X_train_resample)[:,1])]\n",
    "        test_scores += [roc_auc_score(y_test_fold, model.predict_proba(X_test_fold)[:,1])]\n",
    "\n",
    "    return train_scores, test_scores"
   ]
  },
  {
   "cell_type": "code",
   "execution_count": 15,
   "metadata": {},
   "outputs": [
    {
     "output_type": "stream",
     "name": "stderr",
     "text": [
      "C:\\Users\\Peach\\anaconda3\\envs\\py37\\lib\\site-packages\\xgboost\\sklearn.py:1146: UserWarning: The use of label encoder in XGBClassifier is deprecated and will be removed in a future release. To remove this warning, do the following: 1) Pass option use_label_encoder=False when constructing XGBClassifier object; and 2) Encode your labels (y) as integers starting with 0, i.e. 0, 1, 2, ..., [num_class - 1].\n",
      "  warnings.warn(label_encoder_deprecation_msg, UserWarning)\n",
      "C:\\Users\\Peach\\anaconda3\\envs\\py37\\lib\\site-packages\\xgboost\\sklearn.py:1146: UserWarning: The use of label encoder in XGBClassifier is deprecated and will be removed in a future release. To remove this warning, do the following: 1) Pass option use_label_encoder=False when constructing XGBClassifier object; and 2) Encode your labels (y) as integers starting with 0, i.e. 0, 1, 2, ..., [num_class - 1].\n",
      "  warnings.warn(label_encoder_deprecation_msg, UserWarning)\n",
      "C:\\Users\\Peach\\anaconda3\\envs\\py37\\lib\\site-packages\\xgboost\\sklearn.py:1146: UserWarning: The use of label encoder in XGBClassifier is deprecated and will be removed in a future release. To remove this warning, do the following: 1) Pass option use_label_encoder=False when constructing XGBClassifier object; and 2) Encode your labels (y) as integers starting with 0, i.e. 0, 1, 2, ..., [num_class - 1].\n",
      "  warnings.warn(label_encoder_deprecation_msg, UserWarning)\n",
      "C:\\Users\\Peach\\anaconda3\\envs\\py37\\lib\\site-packages\\xgboost\\sklearn.py:1146: UserWarning: The use of label encoder in XGBClassifier is deprecated and will be removed in a future release. To remove this warning, do the following: 1) Pass option use_label_encoder=False when constructing XGBClassifier object; and 2) Encode your labels (y) as integers starting with 0, i.e. 0, 1, 2, ..., [num_class - 1].\n",
      "  warnings.warn(label_encoder_deprecation_msg, UserWarning)\n",
      "C:\\Users\\Peach\\anaconda3\\envs\\py37\\lib\\site-packages\\xgboost\\sklearn.py:1146: UserWarning: The use of label encoder in XGBClassifier is deprecated and will be removed in a future release. To remove this warning, do the following: 1) Pass option use_label_encoder=False when constructing XGBClassifier object; and 2) Encode your labels (y) as integers starting with 0, i.e. 0, 1, 2, ..., [num_class - 1].\n",
      "  warnings.warn(label_encoder_deprecation_msg, UserWarning)\n",
      "C:\\Users\\Peach\\anaconda3\\envs\\py37\\lib\\site-packages\\xgboost\\sklearn.py:1146: UserWarning: The use of label encoder in XGBClassifier is deprecated and will be removed in a future release. To remove this warning, do the following: 1) Pass option use_label_encoder=False when constructing XGBClassifier object; and 2) Encode your labels (y) as integers starting with 0, i.e. 0, 1, 2, ..., [num_class - 1].\n",
      "  warnings.warn(label_encoder_deprecation_msg, UserWarning)\n",
      "C:\\Users\\Peach\\anaconda3\\envs\\py37\\lib\\site-packages\\xgboost\\sklearn.py:1146: UserWarning: The use of label encoder in XGBClassifier is deprecated and will be removed in a future release. To remove this warning, do the following: 1) Pass option use_label_encoder=False when constructing XGBClassifier object; and 2) Encode your labels (y) as integers starting with 0, i.e. 0, 1, 2, ..., [num_class - 1].\n",
      "  warnings.warn(label_encoder_deprecation_msg, UserWarning)\n",
      "C:\\Users\\Peach\\anaconda3\\envs\\py37\\lib\\site-packages\\xgboost\\sklearn.py:1146: UserWarning: The use of label encoder in XGBClassifier is deprecated and will be removed in a future release. To remove this warning, do the following: 1) Pass option use_label_encoder=False when constructing XGBClassifier object; and 2) Encode your labels (y) as integers starting with 0, i.e. 0, 1, 2, ..., [num_class - 1].\n",
      "  warnings.warn(label_encoder_deprecation_msg, UserWarning)\n",
      "C:\\Users\\Peach\\anaconda3\\envs\\py37\\lib\\site-packages\\xgboost\\sklearn.py:1146: UserWarning: The use of label encoder in XGBClassifier is deprecated and will be removed in a future release. To remove this warning, do the following: 1) Pass option use_label_encoder=False when constructing XGBClassifier object; and 2) Encode your labels (y) as integers starting with 0, i.e. 0, 1, 2, ..., [num_class - 1].\n",
      "  warnings.warn(label_encoder_deprecation_msg, UserWarning)\n",
      "C:\\Users\\Peach\\anaconda3\\envs\\py37\\lib\\site-packages\\xgboost\\sklearn.py:1146: UserWarning: The use of label encoder in XGBClassifier is deprecated and will be removed in a future release. To remove this warning, do the following: 1) Pass option use_label_encoder=False when constructing XGBClassifier object; and 2) Encode your labels (y) as integers starting with 0, i.e. 0, 1, 2, ..., [num_class - 1].\n",
      "  warnings.warn(label_encoder_deprecation_msg, UserWarning)\n",
      "C:\\Users\\Peach\\anaconda3\\envs\\py37\\lib\\site-packages\\xgboost\\sklearn.py:1146: UserWarning: The use of label encoder in XGBClassifier is deprecated and will be removed in a future release. To remove this warning, do the following: 1) Pass option use_label_encoder=False when constructing XGBClassifier object; and 2) Encode your labels (y) as integers starting with 0, i.e. 0, 1, 2, ..., [num_class - 1].\n",
      "  warnings.warn(label_encoder_deprecation_msg, UserWarning)\n",
      "C:\\Users\\Peach\\anaconda3\\envs\\py37\\lib\\site-packages\\xgboost\\sklearn.py:1146: UserWarning: The use of label encoder in XGBClassifier is deprecated and will be removed in a future release. To remove this warning, do the following: 1) Pass option use_label_encoder=False when constructing XGBClassifier object; and 2) Encode your labels (y) as integers starting with 0, i.e. 0, 1, 2, ..., [num_class - 1].\n",
      "  warnings.warn(label_encoder_deprecation_msg, UserWarning)\n",
      "C:\\Users\\Peach\\anaconda3\\envs\\py37\\lib\\site-packages\\xgboost\\sklearn.py:1146: UserWarning: The use of label encoder in XGBClassifier is deprecated and will be removed in a future release. To remove this warning, do the following: 1) Pass option use_label_encoder=False when constructing XGBClassifier object; and 2) Encode your labels (y) as integers starting with 0, i.e. 0, 1, 2, ..., [num_class - 1].\n",
      "  warnings.warn(label_encoder_deprecation_msg, UserWarning)\n",
      "C:\\Users\\Peach\\anaconda3\\envs\\py37\\lib\\site-packages\\xgboost\\sklearn.py:1146: UserWarning: The use of label encoder in XGBClassifier is deprecated and will be removed in a future release. To remove this warning, do the following: 1) Pass option use_label_encoder=False when constructing XGBClassifier object; and 2) Encode your labels (y) as integers starting with 0, i.e. 0, 1, 2, ..., [num_class - 1].\n",
      "  warnings.warn(label_encoder_deprecation_msg, UserWarning)\n",
      "C:\\Users\\Peach\\anaconda3\\envs\\py37\\lib\\site-packages\\xgboost\\sklearn.py:1146: UserWarning: The use of label encoder in XGBClassifier is deprecated and will be removed in a future release. To remove this warning, do the following: 1) Pass option use_label_encoder=False when constructing XGBClassifier object; and 2) Encode your labels (y) as integers starting with 0, i.e. 0, 1, 2, ..., [num_class - 1].\n",
      "  warnings.warn(label_encoder_deprecation_msg, UserWarning)\n",
      "C:\\Users\\Peach\\anaconda3\\envs\\py37\\lib\\site-packages\\xgboost\\sklearn.py:1146: UserWarning: The use of label encoder in XGBClassifier is deprecated and will be removed in a future release. To remove this warning, do the following: 1) Pass option use_label_encoder=False when constructing XGBClassifier object; and 2) Encode your labels (y) as integers starting with 0, i.e. 0, 1, 2, ..., [num_class - 1].\n",
      "  warnings.warn(label_encoder_deprecation_msg, UserWarning)\n",
      "C:\\Users\\Peach\\anaconda3\\envs\\py37\\lib\\site-packages\\xgboost\\sklearn.py:1146: UserWarning: The use of label encoder in XGBClassifier is deprecated and will be removed in a future release. To remove this warning, do the following: 1) Pass option use_label_encoder=False when constructing XGBClassifier object; and 2) Encode your labels (y) as integers starting with 0, i.e. 0, 1, 2, ..., [num_class - 1].\n",
      "  warnings.warn(label_encoder_deprecation_msg, UserWarning)\n",
      "C:\\Users\\Peach\\anaconda3\\envs\\py37\\lib\\site-packages\\xgboost\\sklearn.py:1146: UserWarning: The use of label encoder in XGBClassifier is deprecated and will be removed in a future release. To remove this warning, do the following: 1) Pass option use_label_encoder=False when constructing XGBClassifier object; and 2) Encode your labels (y) as integers starting with 0, i.e. 0, 1, 2, ..., [num_class - 1].\n",
      "  warnings.warn(label_encoder_deprecation_msg, UserWarning)\n",
      "C:\\Users\\Peach\\anaconda3\\envs\\py37\\lib\\site-packages\\xgboost\\sklearn.py:1146: UserWarning: The use of label encoder in XGBClassifier is deprecated and will be removed in a future release. To remove this warning, do the following: 1) Pass option use_label_encoder=False when constructing XGBClassifier object; and 2) Encode your labels (y) as integers starting with 0, i.e. 0, 1, 2, ..., [num_class - 1].\n",
      "  warnings.warn(label_encoder_deprecation_msg, UserWarning)\n",
      "C:\\Users\\Peach\\anaconda3\\envs\\py37\\lib\\site-packages\\xgboost\\sklearn.py:1146: UserWarning: The use of label encoder in XGBClassifier is deprecated and will be removed in a future release. To remove this warning, do the following: 1) Pass option use_label_encoder=False when constructing XGBClassifier object; and 2) Encode your labels (y) as integers starting with 0, i.e. 0, 1, 2, ..., [num_class - 1].\n",
      "  warnings.warn(label_encoder_deprecation_msg, UserWarning)\n",
      "C:\\Users\\Peach\\anaconda3\\envs\\py37\\lib\\site-packages\\xgboost\\sklearn.py:1146: UserWarning: The use of label encoder in XGBClassifier is deprecated and will be removed in a future release. To remove this warning, do the following: 1) Pass option use_label_encoder=False when constructing XGBClassifier object; and 2) Encode your labels (y) as integers starting with 0, i.e. 0, 1, 2, ..., [num_class - 1].\n",
      "  warnings.warn(label_encoder_deprecation_msg, UserWarning)\n",
      "C:\\Users\\Peach\\anaconda3\\envs\\py37\\lib\\site-packages\\xgboost\\sklearn.py:1146: UserWarning: The use of label encoder in XGBClassifier is deprecated and will be removed in a future release. To remove this warning, do the following: 1) Pass option use_label_encoder=False when constructing XGBClassifier object; and 2) Encode your labels (y) as integers starting with 0, i.e. 0, 1, 2, ..., [num_class - 1].\n",
      "  warnings.warn(label_encoder_deprecation_msg, UserWarning)\n",
      "C:\\Users\\Peach\\anaconda3\\envs\\py37\\lib\\site-packages\\xgboost\\sklearn.py:1146: UserWarning: The use of label encoder in XGBClassifier is deprecated and will be removed in a future release. To remove this warning, do the following: 1) Pass option use_label_encoder=False when constructing XGBClassifier object; and 2) Encode your labels (y) as integers starting with 0, i.e. 0, 1, 2, ..., [num_class - 1].\n",
      "  warnings.warn(label_encoder_deprecation_msg, UserWarning)\n",
      "C:\\Users\\Peach\\anaconda3\\envs\\py37\\lib\\site-packages\\xgboost\\sklearn.py:1146: UserWarning: The use of label encoder in XGBClassifier is deprecated and will be removed in a future release. To remove this warning, do the following: 1) Pass option use_label_encoder=False when constructing XGBClassifier object; and 2) Encode your labels (y) as integers starting with 0, i.e. 0, 1, 2, ..., [num_class - 1].\n",
      "  warnings.warn(label_encoder_deprecation_msg, UserWarning)\n",
      "C:\\Users\\Peach\\anaconda3\\envs\\py37\\lib\\site-packages\\xgboost\\sklearn.py:1146: UserWarning: The use of label encoder in XGBClassifier is deprecated and will be removed in a future release. To remove this warning, do the following: 1) Pass option use_label_encoder=False when constructing XGBClassifier object; and 2) Encode your labels (y) as integers starting with 0, i.e. 0, 1, 2, ..., [num_class - 1].\n",
      "  warnings.warn(label_encoder_deprecation_msg, UserWarning)\n"
     ]
    },
    {
     "output_type": "execute_result",
     "data": {
      "text/plain": [
       "     model     resampler  train-mean  train-min  train-max  test-mean  \\\n",
       "0  xgboost           n/a    0.944305   0.940354   0.946454   0.709524   \n",
       "1  xgboost  undersampler    0.982189   0.978072   0.984936   0.702638   \n",
       "2  xgboost   oversampler    0.974203   0.972987   0.975349   0.708742   \n",
       "3  xgboost         smote    0.970229   0.966980   0.977068   0.689306   \n",
       "4  xgboost   smote-tomek    0.970314   0.968041   0.977102   0.688751   \n",
       "\n",
       "   test-min  test-max  \n",
       "0  0.613217  0.899374  \n",
       "1  0.617733  0.863163  \n",
       "2  0.619714  0.896726  \n",
       "3  0.602769  0.886052  \n",
       "4  0.602322  0.879686  "
      ],
      "text/html": "<div>\n<style scoped>\n    .dataframe tbody tr th:only-of-type {\n        vertical-align: middle;\n    }\n\n    .dataframe tbody tr th {\n        vertical-align: top;\n    }\n\n    .dataframe thead th {\n        text-align: right;\n    }\n</style>\n<table border=\"1\" class=\"dataframe\">\n  <thead>\n    <tr style=\"text-align: right;\">\n      <th></th>\n      <th>model</th>\n      <th>resampler</th>\n      <th>train-mean</th>\n      <th>train-min</th>\n      <th>train-max</th>\n      <th>test-mean</th>\n      <th>test-min</th>\n      <th>test-max</th>\n    </tr>\n  </thead>\n  <tbody>\n    <tr>\n      <th>0</th>\n      <td>xgboost</td>\n      <td>n/a</td>\n      <td>0.944305</td>\n      <td>0.940354</td>\n      <td>0.946454</td>\n      <td>0.709524</td>\n      <td>0.613217</td>\n      <td>0.899374</td>\n    </tr>\n    <tr>\n      <th>1</th>\n      <td>xgboost</td>\n      <td>undersampler</td>\n      <td>0.982189</td>\n      <td>0.978072</td>\n      <td>0.984936</td>\n      <td>0.702638</td>\n      <td>0.617733</td>\n      <td>0.863163</td>\n    </tr>\n    <tr>\n      <th>2</th>\n      <td>xgboost</td>\n      <td>oversampler</td>\n      <td>0.974203</td>\n      <td>0.972987</td>\n      <td>0.975349</td>\n      <td>0.708742</td>\n      <td>0.619714</td>\n      <td>0.896726</td>\n    </tr>\n    <tr>\n      <th>3</th>\n      <td>xgboost</td>\n      <td>smote</td>\n      <td>0.970229</td>\n      <td>0.966980</td>\n      <td>0.977068</td>\n      <td>0.689306</td>\n      <td>0.602769</td>\n      <td>0.886052</td>\n    </tr>\n    <tr>\n      <th>4</th>\n      <td>xgboost</td>\n      <td>smote-tomek</td>\n      <td>0.970314</td>\n      <td>0.968041</td>\n      <td>0.977102</td>\n      <td>0.688751</td>\n      <td>0.602322</td>\n      <td>0.879686</td>\n    </tr>\n  </tbody>\n</table>\n</div>"
     },
     "metadata": {},
     "execution_count": 15
    }
   ],
   "source": [
    "xgboost_results = []\n",
    "for resampler_name, resampler in resamplers:\n",
    "    train_scores, test_scores = xgboost_cross_validation_score(resampler)\n",
    "    xgboost_results += [(\n",
    "        \"xgboost\", \n",
    "        resampler_name, \n",
    "        np.mean(train_scores), np.min(train_scores), np.max(train_scores), \n",
    "        np.mean(test_scores), np.min(test_scores), np.max(test_scores)\n",
    "    )]\n",
    "xgboost_results = pd.DataFrame(xgboost_results, columns=matrix_columns)\n",
    "xgboost_results"
   ]
  }
 ]
}